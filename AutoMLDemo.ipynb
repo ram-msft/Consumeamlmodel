{
 "cells": [
  {
   "cell_type": "markdown",
   "metadata": {},
   "source": [
    "# Open Data Science Conference"
   ]
  },
  {
   "cell_type": "markdown",
   "metadata": {},
   "source": [
    "## Introdução\n",
    "Esse exemplo usa a base de dados de dígitos da cikit-learn's [digit dataset](http://scikit-learn.org/stable/datasets/index.html#optical-recognition-of-handwritten-digits-dataset) para mostrar um problema de classificação simples usando AutoML.\n",
    "\n",
    "Neste notebook você verá:\n",
    "1. Criação de um `Experiment` em um novo `Workspace`.\n",
    "2. Atachar (ou criar) uma computacao AmlCompute em um workspace.\n",
    "3. Configurar o AutoML usando `AutoMLConfig`.\n",
    "4. Treinar o modelo usando AmlCompute (computacão / cluster remoto)\n",
    "5. Ver os resultados.\n",
    "6. Testar o melhor modelo encontrado."
   ]
  },
  {
   "cell_type": "code",
   "execution_count": 1,
   "metadata": {},
   "outputs": [
    {
     "name": "stdout",
     "output_type": "stream",
     "text": [
      "Collecting inference_schema\n",
      "  Downloading https://files.pythonhosted.org/packages/31/3c/8ac4c45d6ade9891922ca7138773ec075e22ddd952a5d1060ba253502dea/inference_schema-0.1a0-py3-none-any.whl\n",
      "Requirement already satisfied: pytz>=2017.2 in /anaconda/envs/azureml_py36/lib/python3.6/site-packages (from inference_schema) (2017.2)\n",
      "Requirement already satisfied: python-dateutil>=2.5.3 in /anaconda/envs/azureml_py36/lib/python3.6/site-packages (from inference_schema) (2.8.0)\n",
      "Collecting wrapt==1.11.1 (from inference_schema)\n",
      "  Downloading https://files.pythonhosted.org/packages/67/b2/0f71ca90b0ade7fad27e3d20327c996c6252a2ffe88f50a95bba7434eda9/wrapt-1.11.1.tar.gz\n",
      "Requirement already satisfied: six>=1.5 in /anaconda/envs/azureml_py36/lib/python3.6/site-packages (from python-dateutil>=2.5.3->inference_schema) (1.12.0)\n",
      "Building wheels for collected packages: wrapt\n",
      "  Building wheel for wrapt (setup.py) ... \u001b[?25ldone\n",
      "\u001b[?25h  Created wheel for wrapt: filename=wrapt-1.11.1-cp36-cp36m-linux_x86_64.whl size=68492 sha256=4c29ca25b845b16a29b402ad0732e1d628c0e45dc873e7df5f92ac1e4b03314b\n",
      "  Stored in directory: /home/azureuser/.cache/pip/wheels/89/67/41/63cbf0f6ac0a6156588b9587be4db5565f8c6d8ccef98202fc\n",
      "Successfully built wrapt\n",
      "Installing collected packages: wrapt, inference-schema\n",
      "  Found existing installation: wrapt 1.11.2\n",
      "    Uninstalling wrapt-1.11.2:\n",
      "      Successfully uninstalled wrapt-1.11.2\n",
      "Successfully installed inference-schema-0.1a0 wrapt-1.11.1\n",
      "\u001b[33mWARNING: You are using pip version 19.2.3, however version 19.3 is available.\n",
      "You should consider upgrading via the 'pip install --upgrade pip' command.\u001b[0m\n"
     ]
    }
   ],
   "source": [
    "# Install a pip package in the current Jupyter kernel\n",
    "import sys\n",
    "!{sys.executable} -m pip install inference_schema"
   ]
  },
  {
   "cell_type": "code",
   "execution_count": 19,
   "metadata": {},
   "outputs": [],
   "source": [
    "import logging\n",
    "import os\n",
    "\n",
    "from matplotlib import pyplot as plt\n",
    "import numpy as np\n",
    "import pandas as pd\n",
    "from sklearn import datasets\n",
    "\n",
    "import azureml.core\n",
    "from azureml.core.experiment import Experiment\n",
    "from azureml.core.workspace import Workspace\n",
    "from azureml.core.dataset import Dataset\n",
    "from azureml.train.automl import AutoMLConfig\n",
    "from azureml.train.automl.run import AutoMLRun"
   ]
  },
  {
   "cell_type": "code",
   "execution_count": 20,
   "metadata": {},
   "outputs": [
    {
     "data": {
      "text/html": [
       "<div>\n",
       "<style scoped>\n",
       "    .dataframe tbody tr th:only-of-type {\n",
       "        vertical-align: middle;\n",
       "    }\n",
       "\n",
       "    .dataframe tbody tr th {\n",
       "        vertical-align: top;\n",
       "    }\n",
       "\n",
       "    .dataframe thead th {\n",
       "        text-align: right;\n",
       "    }\n",
       "</style>\n",
       "<table border=\"1\" class=\"dataframe\">\n",
       "  <thead>\n",
       "    <tr style=\"text-align: right;\">\n",
       "      <th></th>\n",
       "      <th></th>\n",
       "    </tr>\n",
       "  </thead>\n",
       "  <tbody>\n",
       "    <tr>\n",
       "      <th>SDK version</th>\n",
       "      <td>1.0.65</td>\n",
       "    </tr>\n",
       "    <tr>\n",
       "      <th>Subscription ID</th>\n",
       "      <td>9d89029e-3e7f-473c-be93-27aee0774923</td>\n",
       "    </tr>\n",
       "    <tr>\n",
       "      <th>Workspace Name</th>\n",
       "      <td>odscml</td>\n",
       "    </tr>\n",
       "    <tr>\n",
       "      <th>Resource Group</th>\n",
       "      <td>odsc</td>\n",
       "    </tr>\n",
       "    <tr>\n",
       "      <th>Location</th>\n",
       "      <td>brazilsouth</td>\n",
       "    </tr>\n",
       "    <tr>\n",
       "      <th>Project Directory</th>\n",
       "      <td>./project</td>\n",
       "    </tr>\n",
       "    <tr>\n",
       "      <th>Experiment Name</th>\n",
       "      <td>AutoML</td>\n",
       "    </tr>\n",
       "  </tbody>\n",
       "</table>\n",
       "</div>"
      ],
      "text/plain": [
       "                                                       \n",
       "SDK version        1.0.65                              \n",
       "Subscription ID    9d89029e-3e7f-473c-be93-27aee0774923\n",
       "Workspace Name     odscml                              \n",
       "Resource Group     odsc                                \n",
       "Location           brazilsouth                         \n",
       "Project Directory  ./project                           \n",
       "Experiment Name    AutoML                              "
      ]
     },
     "execution_count": 20,
     "metadata": {},
     "output_type": "execute_result"
    }
   ],
   "source": [
    "ws = Workspace.from_config()\n",
    "\n",
    "# Choose a name for the run history container in the workspace.\n",
    "experiment_name = 'AutoML'\n",
    "project_folder = './project'\n",
    "\n",
    "experiment = Experiment(ws, experiment_name)\n",
    "\n",
    "output = {}\n",
    "output['SDK version'] = azureml.core.VERSION\n",
    "output['Subscription ID'] = ws.subscription_id\n",
    "output['Workspace Name'] = ws.name\n",
    "output['Resource Group'] = ws.resource_group\n",
    "output['Location'] = ws.location\n",
    "output['Project Directory'] = project_folder\n",
    "output['Experiment Name'] = experiment.name\n",
    "pd.set_option('display.max_colwidth', -1)\n",
    "outputDf = pd.DataFrame(data = output, index = [''])\n",
    "outputDf.T"
   ]
  },
  {
   "cell_type": "markdown",
   "metadata": {},
   "source": [
    "## Create or Attach existing AmlCompute\n",
    "Você pode criar ou atachar a um AmlCompute existente. Se usar o nome de um que já existe, simplesmente utilizára ele.\n",
    "**A criação do AmlCompute leva aproximadamente 5 minutos.** \n"
   ]
  },
  {
   "cell_type": "code",
   "execution_count": 4,
   "metadata": {},
   "outputs": [
    {
     "name": "stdout",
     "output_type": "stream",
     "text": [
      "Compute target já existe.\n",
      "Validando o status da criação do cluster...\n",
      "Succeeded\n",
      "AmlCompute wait for completion finished\n",
      "Minimum number of nodes requested have been provisioned\n",
      "CPU times: user 11.3 ms, sys: 11.7 ms, total: 23 ms\n",
      "Wall time: 521 ms\n"
     ]
    }
   ],
   "source": [
    "%%time\n",
    "from azureml.core.compute import AmlCompute\n",
    "from azureml.core.compute import ComputeTarget\n",
    "\n",
    "# Choose a name for your cluster.\n",
    "amlcompute_cluster_name = \"clusterODSCSP\"\n",
    "\n",
    "found = False\n",
    "cts = ws.compute_targets\n",
    "\n",
    "if amlcompute_cluster_name in cts and cts[amlcompute_cluster_name].type == 'AmlCompute':\n",
    "    found = True\n",
    "    print('Compute target já existe.')\n",
    "    compute_target = cts[amlcompute_cluster_name]\n",
    "\n",
    "if not found:\n",
    "    print('Criando novo compute target...')\n",
    "    provisioning_config = AmlCompute.provisioning_configuration(vm_size = \"STANDARD_DS3_V2\", max_nodes = 6, min_nodes=1)\n",
    "    #Cria o cluster\n",
    "    compute_target = ComputeTarget.create(ws, amlcompute_cluster_name, provisioning_config)\n",
    "\n",
    "print('Validando o status da criação do cluster...')\n",
    "compute_target.wait_for_completion(show_output = True, min_node_count = None, timeout_in_minutes = 20)"
   ]
  },
  {
   "cell_type": "markdown",
   "metadata": {},
   "source": [
    "Para execuções remotas, você precisa tornar o dado acessível pela computação remota. Faremos isso fazendo upload dos dados para o DataStore (storage account criada junto ao AML service workspace)."
   ]
  },
  {
   "cell_type": "code",
   "execution_count": 21,
   "metadata": {},
   "outputs": [
    {
     "name": "stdout",
     "output_type": "stream",
     "text": [
      "Uploading an estimated of 2 files\n",
      "Uploading ./data/X_train.csv\n",
      "Uploading ./data/y_train.csv\n",
      "Uploaded ./data/y_train.csv, 1 files out of an estimated total of 2\n",
      "Uploaded ./data/X_train.csv, 2 files out of an estimated total of 2\n",
      "Uploaded 2 files\n"
     ]
    },
    {
     "data": {
      "text/plain": [
       "$AZUREML_DATAREFERENCE_365b22144a34458d99fe848430378174"
      ]
     },
     "execution_count": 21,
     "metadata": {},
     "output_type": "execute_result"
    }
   ],
   "source": [
    "data_train = datasets.load_digits()\n",
    "\n",
    "if not os.path.isdir('data'):\n",
    "    os.mkdir('data')\n",
    "    \n",
    "if not os.path.exists(project_folder):\n",
    "    os.makedirs(project_folder)\n",
    "    \n",
    "pd.DataFrame(data_train.data[100:,:]).to_csv(\"data/X_train.csv\", index=False)\n",
    "pd.DataFrame(data_train.target[100:]).to_csv(\"data/y_train.csv\", index=False)\n",
    "\n",
    "ds = ws.get_default_datastore()\n",
    "ds.upload(src_dir='./data', target_path='digitsdata', overwrite=True, show_progress=True)"
   ]
  },
  {
   "cell_type": "code",
   "execution_count": 22,
   "metadata": {},
   "outputs": [],
   "source": [
    "from azureml.core.runconfig import RunConfiguration\n",
    "from azureml.core.conda_dependencies import CondaDependencies\n",
    "import pkg_resources"
   ]
  },
  {
   "cell_type": "code",
   "execution_count": 23,
   "metadata": {},
   "outputs": [],
   "source": [
    "# cria um objeto RunConfig \n",
    "conda_run_config = RunConfiguration(framework=\"python\")\n",
    "\n",
    "# aponta a computaSet compute target to AmlCompute\n",
    "#conda_run_config.target = compute_target\n",
    "conda_run_config.environment.docker.enabled = True\n",
    "\n",
    "cd = CondaDependencies.create(conda_packages=['numpy','py-xgboost<=0.80'])\n",
    "conda_run_config.environment.python.conda_dependencies = cd"
   ]
  },
  {
   "cell_type": "markdown",
   "metadata": {},
   "source": [
    "Criando o TabularDataset\n",
    "Define X e y como TabularDataset, o qual s erá passado para o AutoML no AutoMLConfig. from_delimited_files por padrão configura a opção infer_column_types como true, o q ue fará a detecção dos tipos das colunas automaticamente. Se quiser, pode definir manualmente o tipo de cada coluna com set_column_types."
   ]
  },
  {
   "cell_type": "code",
   "execution_count": 24,
   "metadata": {},
   "outputs": [],
   "source": [
    "X = Dataset.Tabular.from_delimited_files(path=ds.path('digitsdata/X_train.csv'))\n",
    "y = Dataset.Tabular.from_delimited_files(path=ds.path('digitsdata/y_train.csv'))"
   ]
  },
  {
   "cell_type": "markdown",
   "metadata": {},
   "source": [
    "## Treino\n",
    "\n",
    "|Propriedade|Descrição|\n",
    "|-|-|\n",
    "|**primary_metric**|Esta éa métrica que você quer otimizar. Classificação suporta as seguintes métricas primárias: <br><i>accuracy</i><br><i>AUC_weighted</i><br><i>average_precision_score_weighted</i><br><i>norm_macro_recall</i><br><i>precision_score_weighted</i>|\n",
    "|**iteration_timeout_minutes**|Limite de tempo (em minutos) para cada iteração.|\n",
    "|**iterations**|Número de iterações. Em cada iteração AutoML treian um pipeline específico com os dados.|\n",
    "|**n_cross_validations**|Número de quebras par aa validação cruzada.|\n",
    "|**max_concurrent_iterations**|Máximo número de iterações a serem executadas em paralelo.|"
   ]
  },
  {
   "cell_type": "code",
   "execution_count": 26,
   "metadata": {},
   "outputs": [],
   "source": [
    "automl_settings = {\n",
    "    \"iteration_timeout_minutes\": 10,\n",
    "    \"iterations\": 10,\n",
    "    \"n_cross_validations\": 5,\n",
    "    \"primary_metric\": 'AUC_weighted',\n",
    "    \"preprocess\": False,\n",
    "    \"max_concurrent_iterations\": 5,\n",
    "    \"verbosity\": logging.INFO\n",
    "}\n",
    "\n",
    "automl_config = AutoMLConfig(task = 'classification',\n",
    "                             debug_log = 'automl_errors.log',\n",
    "                             path = project_folder,\n",
    "                             run_configuration=conda_run_config,\n",
    "                             X = X,\n",
    "                             y = y,\n",
    "                             **automl_settings\n",
    "                            )\n"
   ]
  },
  {
   "cell_type": "markdown",
   "metadata": {},
   "source": [
    "Chama agora o método `submit` no objeto de experimento e passa a configuração de execução. \n",
    "Para execuções remotas (o caso neste notebook) o processo é assíncrono, então você verá as interações conforme elas completam. \n",
    "Você pode interagir com os componentes e modelos mesmo que o processo ainda não tenha terminado (para pegar o melhor modelo até aquele momento). \n",
    "Uma vez que você estiver satisfeito com o modelo,, você pode cancelar a execução de uma iteração em particular ou do processo todo."
   ]
  },
  {
   "cell_type": "code",
   "execution_count": 27,
   "metadata": {
    "scrolled": false
   },
   "outputs": [
    {
     "name": "stdout",
     "output_type": "stream",
     "text": [
      "Running on local machine\n",
      "Parent Run ID: AutoML_6a5c2496-978a-4c26-9fe7-dfe0d7c8d1c4\n",
      "Current status: DatasetCrossValidationSplit. Generating CV splits.\n",
      "\n",
      "****************************************************************************************************\n",
      "DATA GUARDRAILS SUMMARY:\n",
      "For more details, use API: run.get_guardrails()\n",
      "\n",
      "TYPE:         Class Balancing Detection\n",
      "STATUS:       PASSED\n",
      "DESCRIPTION:  Classes are balanced in the training data.\n",
      "\n",
      "****************************************************************************************************\n",
      "Current status: ModelSelection. Beginning model selection.\n",
      "\n",
      "****************************************************************************************************\n",
      "ITERATION: The iteration being evaluated.\n",
      "PIPELINE: A summary description of the pipeline being evaluated.\n",
      "DURATION: Time taken for the current iteration.\n",
      "METRIC: The result of computing score on the fitted pipeline.\n",
      "BEST: The best observed score thus far.\n",
      "****************************************************************************************************\n",
      "\n",
      " ITERATION   PIPELINE                                       DURATION      METRIC      BEST\n",
      "         0   StandardScalerWrapper SGD                      0:00:19       0.9945    0.9945\n",
      "         1   StandardScalerWrapper SGD                      0:00:14       0.9975    0.9975\n",
      "         2   MinMaxScaler LightGBM                          0:00:14       0.9979    0.9979\n",
      "         3   StandardScalerWrapper SGD                      0:00:13       0.9892    0.9979\n",
      "         4   StandardScalerWrapper ExtremeRandomTrees       0:00:15       0.9962    0.9979\n",
      "         5   StandardScalerWrapper LightGBM                 0:00:15       0.9979    0.9979\n",
      "         6   StandardScalerWrapper SGD                      0:00:14       0.9969    0.9979\n",
      "         7   MinMaxScaler RandomForest                      0:00:13       0.9849    0.9979\n",
      "         8   VotingEnsemble                                 0:00:18       0.9987    0.9987\n",
      "         9   StackEnsemble                                  0:00:36       0.9887    0.9987\n",
      "CPU times: user 8.63 s, sys: 1.3 s, total: 9.93 s\n",
      "Wall time: 3min 4s\n"
     ]
    }
   ],
   "source": [
    "%%time\n",
    "remote_run = experiment.submit(automl_config, show_output = True)"
   ]
  },
  {
   "cell_type": "markdown",
   "metadata": {},
   "source": [
    "## Resultados\n",
    "Se quiser ver o resultado de uma execução específica, basta fornecer o run_id"
   ]
  },
  {
   "cell_type": "raw",
   "metadata": {},
   "source": [
    "remote_run = AutoMLRun(experiment = experiment, run_id = 'AutoML_97acf834-df57-4ccc-9e88-889ec25b5620')"
   ]
  },
  {
   "cell_type": "markdown",
   "metadata": {},
   "source": [
    "\n",
    "Type Markdown and LaTeX: \n",
    "𝛼\n",
    "2\n",
    "α2"
   ]
  },
  {
   "cell_type": "code",
   "execution_count": 10,
   "metadata": {},
   "outputs": [
    {
     "data": {
      "text/html": [
       "<table style=\"width:100%\"><tr><th>Experiment</th><th>Id</th><th>Type</th><th>Status</th><th>Details Page</th><th>Docs Page</th></tr><tr><td>AutoML</td><td>AutoML_a9878d19-22c9-44fd-b3cc-05589d855c78</td><td>automl</td><td>Completed</td><td><a href=\"https://mlworkspace.azure.ai/portal/subscriptions/fb1987ba-9cb7-4e7d-b9bc-c3d0a834eaa0/resourceGroups/Demos/providers/Microsoft.MachineLearningServices/workspaces/mldemo/experiments/AutoML/runs/AutoML_a9878d19-22c9-44fd-b3cc-05589d855c78\" target=\"_blank\" rel=\"noopener\">Link to Azure Portal</a></td><td><a href=\"https://docs.microsoft.com/en-us/python/api/overview/azure/ml/intro?view=azure-ml-py\" target=\"_blank\" rel=\"noopener\">Link to Documentation</a></td></tr></table>"
      ],
      "text/plain": [
       "Run(Experiment: AutoML,\n",
       "Id: AutoML_a9878d19-22c9-44fd-b3cc-05589d855c78,\n",
       "Type: automl,\n",
       "Status: Completed)"
      ]
     },
     "execution_count": 10,
     "metadata": {},
     "output_type": "execute_result"
    }
   ],
   "source": [
    "remote_run = AutoMLRun(experiment = experiment, run_id = 'AutoML_a9878d19-22c9-44fd-b3cc-05589d855c78')\n",
    "remote_run"
   ]
  },
  {
   "cell_type": "code",
   "execution_count": 28,
   "metadata": {},
   "outputs": [
    {
     "data": {
      "application/vnd.jupyter.widget-view+json": {
       "model_id": "af221b9e07b84149ac57372bbb59ce30",
       "version_major": 2,
       "version_minor": 0
      },
      "text/plain": [
       "A Jupyter Widget"
      ]
     },
     "metadata": {},
     "output_type": "display_data"
    },
    {
     "data": {
      "application/vnd.jupyter.widget-view+json": {
       "model_id": "9eeb7481409543a78654b407ba9dac44",
       "version_major": 2,
       "version_minor": 0
      },
      "text/plain": [
       "A Jupyter Widget"
      ]
     },
     "metadata": {},
     "output_type": "display_data"
    }
   ],
   "source": [
    "from azureml.widgets import RunDetails\n",
    "RunDetails(remote_run).show() "
   ]
  },
  {
   "cell_type": "code",
   "execution_count": 13,
   "metadata": {},
   "outputs": [
    {
     "name": "stdout",
     "output_type": "stream",
     "text": [
      "\n",
      "****************************************************************************************************\n",
      "ITERATION: The iteration being evaluated.\n",
      "PIPELINE: A summary description of the pipeline being evaluated.\n",
      "DURATION: Time taken for the current iteration.\n",
      "METRIC: The result of computing score on the fitted pipeline.\n",
      "BEST: The best observed score thus far.\n",
      "****************************************************************************************************\n",
      "\n",
      " ITERATION   PIPELINE                                       DURATION      METRIC      BEST\n",
      "         4   StandardScalerWrapper ExtremeRandomTrees       0:00:13       0.9963    0.9963\n",
      "         3   StandardScalerWrapper SGD                      0:00:11       0.9892    0.9963\n",
      "         2   MinMaxScaler LightGBM                          0:00:11       0.9979    0.9979\n",
      "         1   StandardScalerWrapper SGD                      0:00:12       0.9974    0.9979\n",
      "         0   StandardScalerWrapper SGD                      0:00:18       0.9945    0.9979\n",
      "         9    StackEnsemble                                 0:00:36       0.9782    0.9979\n",
      "         8    VotingEnsemble                                0:00:18       0.9987    0.9987\n",
      "         7   MinMaxScaler RandomForest                      0:00:11       0.9863    0.9987\n",
      "         6   StandardScalerWrapper SGD                      0:00:12       0.9970    0.9987\n",
      "         5   StandardScalerWrapper LightGBM                 0:00:12       0.9979    0.9987\n",
      "\n",
      "Execution Summary\n",
      "=================\n",
      "RunId: AutoML_939640d4-0352-4f93-92ee-5d08364b1164\n",
      "\n"
     ]
    },
    {
     "data": {
      "text/plain": [
       "{'endTimeUtc': '2019-10-14T14:54:27.494534Z',\n",
       " 'inputDatasets': [],\n",
       " 'logFiles': {},\n",
       " 'properties': {'AMLSettingsJsonString': '{\"name\": \"AutoML\", \"path\": \"./project\", \"subscription_id\": \"9d89029e-3e7f-473c-be93-27aee0774923\", \"resource_group\": \"odsc\", \"workspace_name\": \"odscml\", \"region\": \"brazilsouth\", \"compute_target\": \"local\", \"spark_service\": null, \"azure_service\": null, \"iterations\": 10, \"primary_metric\": \"AUC_weighted\", \"task_type\": \"classification\", \"data_script\": null, \"validation_size\": 0.0, \"n_cross_validations\": 5, \"y_min\": null, \"y_max\": null, \"num_classes\": 10, \"featurization\": \"off\", \"preprocess\": false, \"lag_length\": 0, \"is_timeseries\": false, \"max_cores_per_iteration\": 1, \"max_concurrent_iterations\": 5, \"iteration_timeout_minutes\": 10, \"mem_in_mb\": null, \"enforce_time_on_windows\": false, \"experiment_timeout_minutes\": null, \"experiment_exit_score\": null, \"whitelist_models\": null, \"blacklist_algos\": [\"XGBoostClassifier\", \"XGBoostClassifier\"], \"supported_models\": [\"LogisticRegression\", \"SGD\", \"MultinomialNaiveBayes\", \"BernoulliNaiveBayes\", \"SVM\", \"LinearSVM\", \"KNN\", \"DecisionTree\", \"RandomForest\", \"ExtremeRandomTrees\", \"LightGBM\", \"XGBoostClassifier\", \"NimbusMLAveragedPerceptronClassifier\", \"NimbusMLLinearSVMClassifier\", \"GradientBoosting\", \"TensorFlowDNN\", \"TensorFlowLinearClassifier\"], \"auto_blacklist\": true, \"blacklist_samples_reached\": false, \"exclude_nan_labels\": true, \"verbosity\": 20, \"debug_log\": \"automl_errors.log\", \"show_warnings\": false, \"model_explainability\": false, \"service_url\": null, \"sdk_url\": null, \"sdk_packages\": null, \"enable_onnx_compatible_models\": false, \"enable_feature_sweeping\": true, \"vm_type\": null, \"telemetry_verbosity\": \"INFO\", \"send_telemetry\": true, \"enable_early_stopping\": false, \"early_stopping_n_iters\": 10, \"metrics\": null, \"enable_ensembling\": true, \"enable_stack_ensembling\": true, \"ensemble_iterations\": 10, \"enable_tf\": false, \"enable_cache\": true, \"enable_subsampling\": false, \"subsample_seed\": null, \"enable_nimbusml\": false, \"enable_streaming\": false, \"label_column_name\": null, \"weight_column_name\": null, \"cost_mode\": 0, \"metric_operation\": \"maximize\"}',\n",
       "  'DataPrepJsonString': None,\n",
       "  'EnableSubsampling': 'False',\n",
       "  'MaxTimeSeconds': '600',\n",
       "  'ProblemInfoJsonString': '{\"dataset_num_categorical\": 0, \"is_sparse\": false, \"subsampling\": false, \"dataset_classes\": 10, \"dataset_features\": 64, \"dataset_samples\": 1697, \"single_frequency_class_detected\": false}',\n",
       "  'RawAMLSettingsString': \"{'name': 'AutoML', 'path': './project', 'subscription_id': '9d89029e-3e7f-473c-be93-27aee0774923', 'resource_group': 'odsc', 'workspace_name': 'odscml', 'region': 'brazilsouth', 'compute_target': 'local', 'spark_service': None, 'azure_service': None, 'iterations': 10, 'primary_metric': 'AUC_weighted', 'task_type': 'classification', 'data_script': None, 'validation_size': 0.0, 'n_cross_validations': 5, 'y_min': None, 'y_max': None, 'num_classes': 10, 'featurization': 'off', 'preprocess': False, 'lag_length': 0, 'is_timeseries': False, 'max_cores_per_iteration': 1, 'max_concurrent_iterations': 5, 'iteration_timeout_minutes': 10, 'mem_in_mb': None, 'enforce_time_on_windows': False, 'experiment_timeout_minutes': None, 'experiment_exit_score': None, 'whitelist_models': None, 'blacklist_algos': ['XGBoostClassifier', 'XGBoostClassifier'], 'supported_models': ['LogisticRegression', 'SGD', 'MultinomialNaiveBayes', 'BernoulliNaiveBayes', 'SVM', 'LinearSVM', 'KNN', 'DecisionTree', 'RandomForest', 'ExtremeRandomTrees', 'LightGBM', 'XGBoostClassifier', 'NimbusMLAveragedPerceptronClassifier', 'NimbusMLLinearSVMClassifier', 'GradientBoosting', 'TensorFlowDNN', 'TensorFlowLinearClassifier'], 'auto_blacklist': True, 'blacklist_samples_reached': False, 'exclude_nan_labels': True, 'verbosity': 20, 'debug_log': 'automl_errors.log', 'show_warnings': False, 'model_explainability': False, 'service_url': None, 'sdk_url': None, 'sdk_packages': None, 'enable_onnx_compatible_models': False, 'enable_feature_sweeping': True, 'vm_type': None, 'telemetry_verbosity': 'INFO', 'send_telemetry': True, 'enable_early_stopping': False, 'early_stopping_n_iters': 10, 'metrics': None, 'enable_ensembling': True, 'enable_stack_ensembling': True, 'ensemble_iterations': 10, 'enable_tf': False, 'enable_cache': True, 'enable_subsampling': False, 'subsample_seed': None, 'enable_nimbusml': False, 'enable_streaming': False, 'label_column_name': None, 'weight_column_name': None, 'cost_mode': 0, 'metric_operation': 'maximize'}\",\n",
       "  'acquisition_function': 'EI',\n",
       "  'acquisition_parameter': '0',\n",
       "  'azureml.runsource': 'automl',\n",
       "  'dependencies_versions': '{\"azureml-widgets\": \"1.0.65\", \"azureml-train\": \"1.0.65\", \"azureml-train-restclients-hyperdrive\": \"1.0.65\", \"azureml-train-core\": \"1.0.65\", \"azureml-train-automl\": \"1.0.65\", \"azureml-tensorboard\": \"1.0.65\", \"azureml-telemetry\": \"1.0.65\", \"azureml-sdk\": \"1.0.65\", \"azureml-pipeline\": \"1.0.65\", \"azureml-pipeline-steps\": \"1.0.65\", \"azureml-pipeline-core\": \"1.0.65\", \"azureml-opendatasets\": \"1.0.65\", \"azureml-explain-model\": \"1.0.65\", \"azureml-dataprep\": \"1.1.19\", \"azureml-dataprep-native\": \"13.0.3\", \"azureml-core\": \"1.0.65\", \"azureml-contrib-services\": \"1.0.65\", \"azureml-contrib-server\": \"1.0.65\", \"azureml-contrib-reinforcementlearning\": \"0.1.0.5524756\", \"azureml-contrib-opendatasets\": \"1.0.45\", \"azureml-contrib-notebook\": \"1.0.65\", \"azureml-contrib-explain-model\": \"1.0.65\", \"azureml-contrib-datadrift\": \"1.0.65\", \"azureml-automl-core\": \"1.0.65\"}',\n",
       "  'display_task_type': 'classification',\n",
       "  'num_cross_validation': '5',\n",
       "  'num_iterations': '10',\n",
       "  'primary_metric': 'AUC_weighted',\n",
       "  'runTemplate': 'AutoML',\n",
       "  'target': 'local',\n",
       "  'train_split': '0',\n",
       "  'training_type': 'TrainFull'},\n",
       " 'runId': 'AutoML_939640d4-0352-4f93-92ee-5d08364b1164',\n",
       " 'startTimeUtc': '2019-10-14T14:51:37.755802Z',\n",
       " 'status': 'Completed',\n",
       " 'target': 'local'}"
      ]
     },
     "execution_count": 13,
     "metadata": {},
     "output_type": "execute_result"
    }
   ],
   "source": [
    "remote_run.wait_for_completion(show_output = True)"
   ]
  },
  {
   "cell_type": "markdown",
   "metadata": {},
   "source": [
    "#### Recuperar todos as execuções\n",
    "Você pode usar os métodos da SDK para recuperar todoas as execuções filhas e ver as métricas logadas."
   ]
  },
  {
   "cell_type": "code",
   "execution_count": 14,
   "metadata": {},
   "outputs": [
    {
     "data": {
      "text/html": [
       "<div>\n",
       "<style scoped>\n",
       "    .dataframe tbody tr th:only-of-type {\n",
       "        vertical-align: middle;\n",
       "    }\n",
       "\n",
       "    .dataframe tbody tr th {\n",
       "        vertical-align: top;\n",
       "    }\n",
       "\n",
       "    .dataframe thead th {\n",
       "        text-align: right;\n",
       "    }\n",
       "</style>\n",
       "<table border=\"1\" class=\"dataframe\">\n",
       "  <thead>\n",
       "    <tr style=\"text-align: right;\">\n",
       "      <th></th>\n",
       "      <th>0</th>\n",
       "      <th>1</th>\n",
       "      <th>2</th>\n",
       "      <th>3</th>\n",
       "      <th>4</th>\n",
       "      <th>5</th>\n",
       "      <th>6</th>\n",
       "      <th>7</th>\n",
       "      <th>8</th>\n",
       "      <th>9</th>\n",
       "    </tr>\n",
       "  </thead>\n",
       "  <tbody>\n",
       "    <tr>\n",
       "      <th>AUC_macro</th>\n",
       "      <td>0.99</td>\n",
       "      <td>1.00</td>\n",
       "      <td>1.00</td>\n",
       "      <td>0.99</td>\n",
       "      <td>1.00</td>\n",
       "      <td>1.00</td>\n",
       "      <td>1.00</td>\n",
       "      <td>0.99</td>\n",
       "      <td>1.00</td>\n",
       "      <td>0.98</td>\n",
       "    </tr>\n",
       "    <tr>\n",
       "      <th>AUC_micro</th>\n",
       "      <td>1.00</td>\n",
       "      <td>1.00</td>\n",
       "      <td>1.00</td>\n",
       "      <td>0.99</td>\n",
       "      <td>1.00</td>\n",
       "      <td>1.00</td>\n",
       "      <td>1.00</td>\n",
       "      <td>0.99</td>\n",
       "      <td>1.00</td>\n",
       "      <td>0.98</td>\n",
       "    </tr>\n",
       "    <tr>\n",
       "      <th>AUC_weighted</th>\n",
       "      <td>0.99</td>\n",
       "      <td>1.00</td>\n",
       "      <td>1.00</td>\n",
       "      <td>0.99</td>\n",
       "      <td>1.00</td>\n",
       "      <td>1.00</td>\n",
       "      <td>1.00</td>\n",
       "      <td>0.99</td>\n",
       "      <td>1.00</td>\n",
       "      <td>0.98</td>\n",
       "    </tr>\n",
       "    <tr>\n",
       "      <th>accuracy</th>\n",
       "      <td>0.95</td>\n",
       "      <td>0.96</td>\n",
       "      <td>0.95</td>\n",
       "      <td>0.91</td>\n",
       "      <td>0.95</td>\n",
       "      <td>0.94</td>\n",
       "      <td>0.96</td>\n",
       "      <td>0.88</td>\n",
       "      <td>0.96</td>\n",
       "      <td>0.84</td>\n",
       "    </tr>\n",
       "    <tr>\n",
       "      <th>average_precision_score_macro</th>\n",
       "      <td>0.98</td>\n",
       "      <td>0.99</td>\n",
       "      <td>0.99</td>\n",
       "      <td>0.94</td>\n",
       "      <td>0.98</td>\n",
       "      <td>0.99</td>\n",
       "      <td>0.99</td>\n",
       "      <td>0.93</td>\n",
       "      <td>0.99</td>\n",
       "      <td>0.92</td>\n",
       "    </tr>\n",
       "    <tr>\n",
       "      <th>average_precision_score_micro</th>\n",
       "      <td>0.98</td>\n",
       "      <td>0.99</td>\n",
       "      <td>0.99</td>\n",
       "      <td>0.94</td>\n",
       "      <td>0.98</td>\n",
       "      <td>0.99</td>\n",
       "      <td>0.99</td>\n",
       "      <td>0.93</td>\n",
       "      <td>0.99</td>\n",
       "      <td>0.92</td>\n",
       "    </tr>\n",
       "    <tr>\n",
       "      <th>average_precision_score_weighted</th>\n",
       "      <td>0.98</td>\n",
       "      <td>0.99</td>\n",
       "      <td>0.99</td>\n",
       "      <td>0.94</td>\n",
       "      <td>0.98</td>\n",
       "      <td>0.99</td>\n",
       "      <td>0.99</td>\n",
       "      <td>0.93</td>\n",
       "      <td>0.99</td>\n",
       "      <td>0.92</td>\n",
       "    </tr>\n",
       "    <tr>\n",
       "      <th>balanced_accuracy</th>\n",
       "      <td>0.95</td>\n",
       "      <td>0.97</td>\n",
       "      <td>0.95</td>\n",
       "      <td>0.91</td>\n",
       "      <td>0.95</td>\n",
       "      <td>0.94</td>\n",
       "      <td>0.96</td>\n",
       "      <td>0.88</td>\n",
       "      <td>0.96</td>\n",
       "      <td>0.85</td>\n",
       "    </tr>\n",
       "    <tr>\n",
       "      <th>f1_score_macro</th>\n",
       "      <td>0.95</td>\n",
       "      <td>0.96</td>\n",
       "      <td>0.95</td>\n",
       "      <td>0.91</td>\n",
       "      <td>0.94</td>\n",
       "      <td>0.94</td>\n",
       "      <td>0.96</td>\n",
       "      <td>0.87</td>\n",
       "      <td>0.96</td>\n",
       "      <td>0.82</td>\n",
       "    </tr>\n",
       "    <tr>\n",
       "      <th>f1_score_micro</th>\n",
       "      <td>0.95</td>\n",
       "      <td>0.96</td>\n",
       "      <td>0.95</td>\n",
       "      <td>0.91</td>\n",
       "      <td>0.95</td>\n",
       "      <td>0.94</td>\n",
       "      <td>0.96</td>\n",
       "      <td>0.88</td>\n",
       "      <td>0.96</td>\n",
       "      <td>0.84</td>\n",
       "    </tr>\n",
       "    <tr>\n",
       "      <th>f1_score_weighted</th>\n",
       "      <td>0.95</td>\n",
       "      <td>0.96</td>\n",
       "      <td>0.95</td>\n",
       "      <td>0.91</td>\n",
       "      <td>0.95</td>\n",
       "      <td>0.94</td>\n",
       "      <td>0.96</td>\n",
       "      <td>0.88</td>\n",
       "      <td>0.96</td>\n",
       "      <td>0.82</td>\n",
       "    </tr>\n",
       "    <tr>\n",
       "      <th>log_loss</th>\n",
       "      <td>0.51</td>\n",
       "      <td>0.22</td>\n",
       "      <td>0.31</td>\n",
       "      <td>1.61</td>\n",
       "      <td>0.77</td>\n",
       "      <td>0.32</td>\n",
       "      <td>0.30</td>\n",
       "      <td>1.03</td>\n",
       "      <td>0.31</td>\n",
       "      <td>0.75</td>\n",
       "    </tr>\n",
       "    <tr>\n",
       "      <th>norm_macro_recall</th>\n",
       "      <td>0.95</td>\n",
       "      <td>0.96</td>\n",
       "      <td>0.94</td>\n",
       "      <td>0.90</td>\n",
       "      <td>0.94</td>\n",
       "      <td>0.93</td>\n",
       "      <td>0.95</td>\n",
       "      <td>0.86</td>\n",
       "      <td>0.96</td>\n",
       "      <td>0.83</td>\n",
       "    </tr>\n",
       "    <tr>\n",
       "      <th>precision_score_macro</th>\n",
       "      <td>0.95</td>\n",
       "      <td>0.96</td>\n",
       "      <td>0.95</td>\n",
       "      <td>0.91</td>\n",
       "      <td>0.95</td>\n",
       "      <td>0.94</td>\n",
       "      <td>0.96</td>\n",
       "      <td>0.88</td>\n",
       "      <td>0.96</td>\n",
       "      <td>0.82</td>\n",
       "    </tr>\n",
       "    <tr>\n",
       "      <th>precision_score_micro</th>\n",
       "      <td>0.95</td>\n",
       "      <td>0.96</td>\n",
       "      <td>0.95</td>\n",
       "      <td>0.91</td>\n",
       "      <td>0.95</td>\n",
       "      <td>0.94</td>\n",
       "      <td>0.96</td>\n",
       "      <td>0.88</td>\n",
       "      <td>0.96</td>\n",
       "      <td>0.84</td>\n",
       "    </tr>\n",
       "    <tr>\n",
       "      <th>precision_score_weighted</th>\n",
       "      <td>0.95</td>\n",
       "      <td>0.97</td>\n",
       "      <td>0.95</td>\n",
       "      <td>0.91</td>\n",
       "      <td>0.95</td>\n",
       "      <td>0.94</td>\n",
       "      <td>0.96</td>\n",
       "      <td>0.88</td>\n",
       "      <td>0.96</td>\n",
       "      <td>0.83</td>\n",
       "    </tr>\n",
       "    <tr>\n",
       "      <th>recall_score_macro</th>\n",
       "      <td>0.95</td>\n",
       "      <td>0.97</td>\n",
       "      <td>0.95</td>\n",
       "      <td>0.91</td>\n",
       "      <td>0.95</td>\n",
       "      <td>0.94</td>\n",
       "      <td>0.96</td>\n",
       "      <td>0.88</td>\n",
       "      <td>0.96</td>\n",
       "      <td>0.85</td>\n",
       "    </tr>\n",
       "    <tr>\n",
       "      <th>recall_score_micro</th>\n",
       "      <td>0.95</td>\n",
       "      <td>0.96</td>\n",
       "      <td>0.95</td>\n",
       "      <td>0.91</td>\n",
       "      <td>0.95</td>\n",
       "      <td>0.94</td>\n",
       "      <td>0.96</td>\n",
       "      <td>0.88</td>\n",
       "      <td>0.96</td>\n",
       "      <td>0.84</td>\n",
       "    </tr>\n",
       "    <tr>\n",
       "      <th>recall_score_weighted</th>\n",
       "      <td>0.95</td>\n",
       "      <td>0.96</td>\n",
       "      <td>0.95</td>\n",
       "      <td>0.91</td>\n",
       "      <td>0.95</td>\n",
       "      <td>0.94</td>\n",
       "      <td>0.96</td>\n",
       "      <td>0.88</td>\n",
       "      <td>0.96</td>\n",
       "      <td>0.84</td>\n",
       "    </tr>\n",
       "    <tr>\n",
       "      <th>weighted_accuracy</th>\n",
       "      <td>0.95</td>\n",
       "      <td>0.96</td>\n",
       "      <td>0.95</td>\n",
       "      <td>0.91</td>\n",
       "      <td>0.95</td>\n",
       "      <td>0.94</td>\n",
       "      <td>0.96</td>\n",
       "      <td>0.88</td>\n",
       "      <td>0.96</td>\n",
       "      <td>0.83</td>\n",
       "    </tr>\n",
       "  </tbody>\n",
       "</table>\n",
       "</div>"
      ],
      "text/plain": [
       "                                    0    1    2    3    4    5    6    7    8  \\\n",
       "AUC_macro                        0.99 1.00 1.00 0.99 1.00 1.00 1.00 0.99 1.00   \n",
       "AUC_micro                        1.00 1.00 1.00 0.99 1.00 1.00 1.00 0.99 1.00   \n",
       "AUC_weighted                     0.99 1.00 1.00 0.99 1.00 1.00 1.00 0.99 1.00   \n",
       "accuracy                         0.95 0.96 0.95 0.91 0.95 0.94 0.96 0.88 0.96   \n",
       "average_precision_score_macro    0.98 0.99 0.99 0.94 0.98 0.99 0.99 0.93 0.99   \n",
       "average_precision_score_micro    0.98 0.99 0.99 0.94 0.98 0.99 0.99 0.93 0.99   \n",
       "average_precision_score_weighted 0.98 0.99 0.99 0.94 0.98 0.99 0.99 0.93 0.99   \n",
       "balanced_accuracy                0.95 0.97 0.95 0.91 0.95 0.94 0.96 0.88 0.96   \n",
       "f1_score_macro                   0.95 0.96 0.95 0.91 0.94 0.94 0.96 0.87 0.96   \n",
       "f1_score_micro                   0.95 0.96 0.95 0.91 0.95 0.94 0.96 0.88 0.96   \n",
       "f1_score_weighted                0.95 0.96 0.95 0.91 0.95 0.94 0.96 0.88 0.96   \n",
       "log_loss                         0.51 0.22 0.31 1.61 0.77 0.32 0.30 1.03 0.31   \n",
       "norm_macro_recall                0.95 0.96 0.94 0.90 0.94 0.93 0.95 0.86 0.96   \n",
       "precision_score_macro            0.95 0.96 0.95 0.91 0.95 0.94 0.96 0.88 0.96   \n",
       "precision_score_micro            0.95 0.96 0.95 0.91 0.95 0.94 0.96 0.88 0.96   \n",
       "precision_score_weighted         0.95 0.97 0.95 0.91 0.95 0.94 0.96 0.88 0.96   \n",
       "recall_score_macro               0.95 0.97 0.95 0.91 0.95 0.94 0.96 0.88 0.96   \n",
       "recall_score_micro               0.95 0.96 0.95 0.91 0.95 0.94 0.96 0.88 0.96   \n",
       "recall_score_weighted            0.95 0.96 0.95 0.91 0.95 0.94 0.96 0.88 0.96   \n",
       "weighted_accuracy                0.95 0.96 0.95 0.91 0.95 0.94 0.96 0.88 0.96   \n",
       "\n",
       "                                    9  \n",
       "AUC_macro                        0.98  \n",
       "AUC_micro                        0.98  \n",
       "AUC_weighted                     0.98  \n",
       "accuracy                         0.84  \n",
       "average_precision_score_macro    0.92  \n",
       "average_precision_score_micro    0.92  \n",
       "average_precision_score_weighted 0.92  \n",
       "balanced_accuracy                0.85  \n",
       "f1_score_macro                   0.82  \n",
       "f1_score_micro                   0.84  \n",
       "f1_score_weighted                0.82  \n",
       "log_loss                         0.75  \n",
       "norm_macro_recall                0.83  \n",
       "precision_score_macro            0.82  \n",
       "precision_score_micro            0.84  \n",
       "precision_score_weighted         0.83  \n",
       "recall_score_macro               0.85  \n",
       "recall_score_micro               0.84  \n",
       "recall_score_weighted            0.84  \n",
       "weighted_accuracy                0.83  "
      ]
     },
     "execution_count": 14,
     "metadata": {},
     "output_type": "execute_result"
    }
   ],
   "source": [
    "children = list(remote_run.get_children())\n",
    "metricslist = {}\n",
    "for run in children:\n",
    "    properties = run.get_properties()\n",
    "    metrics = {k: v for k, v in run.get_metrics().items() if isinstance(v, float)}\n",
    "    metricslist[int(properties['iteration'])] = metrics\n",
    "\n",
    "rundata = pd.DataFrame(metricslist).sort_index(1)\n",
    "rundata"
   ]
  },
  {
   "cell_type": "markdown",
   "metadata": {},
   "source": [
    "### Cancelando uma Execução\n",
    "\n",
    "Você pode cancelar uma execução em andamento rodando as funções `cancel` e `cancel_iteration`."
   ]
  },
  {
   "cell_type": "code",
   "execution_count": null,
   "metadata": {},
   "outputs": [],
   "source": [
    "# Cancela a operação atual e cancela aspróximas iterações.\n",
    "# remote_run.cancel()\n",
    "\n",
    "# Cancela a iteração de número 1 e segue para a de número 2.\n",
    "# remote_run.cancel_iteration(1)"
   ]
  },
  {
   "cell_type": "markdown",
   "metadata": {},
   "source": [
    "### Recuperar o melhor modelo\n",
    "\n",
    "Abaixo nós selecionamos o melhor pipeline dentro nossas iterações. O método `get_output` retorna a melhor execução e o modelo já treinado. O modelo inclui o pipeline e todo os pré-processamentos.\n",
    "Outras chamadas do método `get_output` permite retornar a melhor execução e modelo treinado para *any* métrica logada ou para uma iteração em específico *iteration*."
   ]
  },
  {
   "cell_type": "code",
   "execution_count": 29,
   "metadata": {},
   "outputs": [
    {
     "name": "stdout",
     "output_type": "stream",
     "text": [
      "Run(Experiment: AutoML,\n",
      "Id: AutoML_6a5c2496-978a-4c26-9fe7-dfe0d7c8d1c4_8,\n",
      "Type: None,\n",
      "Status: Completed)\n",
      "Pipeline(memory=None,\n",
      "     steps=[('prefittedsoftvotingclassifier', PreFittedSoftVotingClassifier(classification_labels=None,\n",
      "               estimators=[('5', Pipeline(memory=None,\n",
      "     steps=[('StandardScalerWrapper', <automl.client.core.common.model_wrappers.StandardScalerWrapper object at 0x7ff8646619b0>), ('LightGBMClassi...,\n",
      "               flatten_transform=None,\n",
      "               weights=[0.5, 0.125, 0.125, 0.125, 0.125]))])\n"
     ]
    }
   ],
   "source": [
    "best_run, fitted_model = remote_run.get_output()\n",
    "print(best_run)\n",
    "print(fitted_model)"
   ]
  },
  {
   "cell_type": "markdown",
   "metadata": {},
   "source": [
    "#### Melhor modelo baseado em qualquer outra métrica\n",
    "Mostre a execução e o modelo que possua o menor valor de `log_loss`:"
   ]
  },
  {
   "cell_type": "code",
   "execution_count": 16,
   "metadata": {},
   "outputs": [
    {
     "name": "stdout",
     "output_type": "stream",
     "text": [
      "Run(Experiment: AutoML,\n",
      "Id: AutoML_939640d4-0352-4f93-92ee-5d08364b1164_1,\n",
      "Type: None,\n",
      "Status: Completed)\n",
      "Pipeline(memory=None,\n",
      "     steps=[('StandardScalerWrapper', <automl.client.core.common.model_wrappers.StandardScalerWrapper object at 0x7fa38013b860>), ('SGDClassifierWrapper', SGDClassifierWrapper(alpha=1.4286571428571428, class_weight=None, eta0=0.01,\n",
      "           fit_intercept=True, l1_ratio=0.7551020408163265,\n",
      "           learning_rate='constant', loss='log', max_iter=1000, n_jobs=1,\n",
      "           penalty='none', power_t=0.4444444444444444, random_state=None,\n",
      "           tol=0.001))])\n"
     ]
    }
   ],
   "source": [
    "lookup_metric = \"log_loss\"\n",
    "best_run, fitted_model = remote_run.get_output(metric = lookup_metric)\n",
    "print(best_run)\n",
    "print(fitted_model)"
   ]
  },
  {
   "cell_type": "markdown",
   "metadata": {},
   "source": [
    "#### Modelo de uma iteração específica\n",
    "Mostra a execução e o modelo da terceira iteração:"
   ]
  },
  {
   "cell_type": "code",
   "execution_count": 41,
   "metadata": {},
   "outputs": [
    {
     "name": "stdout",
     "output_type": "stream",
     "text": [
      "Run(Experiment: AutoML,\n",
      "Id: AutoML_97acf834-df57-4ccc-9e88-889ec25b5620_1,\n",
      "Type: azureml.scriptrun,\n",
      "Status: Completed)\n",
      "Pipeline(memory=None,\n",
      "     steps=[('StandardScalerWrapper', <automl.client.core.common.model_wrappers.StandardScalerWrapper object at 0x7fc9706d0d30>), ('SGDClassifierWrapper', SGDClassifierWrapper(alpha=1.4286571428571428, class_weight=None, eta0=0.01,\n",
      "           fit_intercept=True, l1_ratio=0.7551020408163265,\n",
      "           learning_rate='constant', loss='log', max_iter=1000, n_jobs=1,\n",
      "           penalty='none', power_t=0.4444444444444444, random_state=None,\n",
      "           tol=0.001))])\n"
     ]
    }
   ],
   "source": [
    "iteration = 1\n",
    "third_run, third_model = remote_run.get_output(iteration=iteration)\n",
    "print(third_run)\n",
    "print(third_model)"
   ]
  },
  {
   "cell_type": "markdown",
   "metadata": {},
   "source": [
    "## Testes\n",
    "\n",
    "#### Carregar os dados para teste"
   ]
  },
  {
   "cell_type": "code",
   "execution_count": 30,
   "metadata": {},
   "outputs": [],
   "source": [
    "digits = datasets.load_digits()\n",
    "X_test = digits.data[:10, :]\n",
    "y_test = digits.target[:10]\n",
    "images = digits.images[:10]"
   ]
  },
  {
   "cell_type": "markdown",
   "metadata": {},
   "source": [
    "#### Testando nosso melhor modelo "
   ]
  },
  {
   "cell_type": "code",
   "execution_count": 31,
   "metadata": {},
   "outputs": [
    {
     "name": "stdout",
     "output_type": "stream",
     "text": [
      "4\n"
     ]
    },
    {
     "data": {
      "image/png": "[encoded data removed]",
      "text/plain": [
       "<Figure size 216x216 with 1 Axes>"
      ]
     },
     "metadata": {
      "needs_background": "light"
     },
     "output_type": "display_data"
    },
    {
     "name": "stdout",
     "output_type": "stream",
     "text": [
      "0\n"
     ]
    },
    {
     "data": {
      "image/png": "[encoded data removed]",
      "text/plain": [
       "<Figure size 216x216 with 1 Axes>"
      ]
     },
     "metadata": {
      "needs_background": "light"
     },
     "output_type": "display_data"
    }
   ],
   "source": [
    "# Selecionar dígitos aleatoriamente e testar.\n",
    "for index in np.random.choice(len(y_test), 2, replace = False):\n",
    "    print(index)\n",
    "    predicted = fitted_model.predict(X_test[index:index + 1])[0]\n",
    "    label = y_test[index]\n",
    "    title = \"Label value = %d  Predicted value = %d \" % (label, predicted)\n",
    "    fig = plt.figure(1, figsize=(3,3))\n",
    "    ax1 = fig.add_axes((0,0,.8,.8))\n",
    "    ax1.set_title(title)\n",
    "    plt.imshow(images[index], cmap = plt.cm.gray_r, interpolation = 'nearest')\n",
    "    plt.show()"
   ]
  },
  {
   "cell_type": "code",
   "execution_count": 19,
   "metadata": {},
   "outputs": [],
   "source": [
    "model = remote_run.register_model(model_name=\"digitmodel\", description=\"Demo ODSC\")"
   ]
  },
  {
   "cell_type": "code",
   "execution_count": 20,
   "metadata": {},
   "outputs": [
    {
     "name": "stdout",
     "output_type": "stream",
     "text": [
      "Writing myenv.yml\n"
     ]
    }
   ],
   "source": [
    "%%writefile myenv.yml\n",
    "name: project_environment\n",
    "dependencies:\n",
    "  # The python interpreter version.\n",
    "  # Currently Azure ML only supports 3.5.2 and later.\n",
    "- python=3.6.2\n",
    "\n",
    "- pip:\n",
    "  - azureml-train-automl==1.0.65\n",
    "  - inference-schema\n",
    "- numpy>=1.16.0,<=1.16.2\n",
    "- pandas\n",
    "- scikit-learn\n",
    "- py-xgboost<=0.80\n",
    "- fbprophet==0.5\n",
    "channels:\n",
    "- conda-forge\n"
   ]
  },
  {
   "cell_type": "code",
   "execution_count": 21,
   "metadata": {},
   "outputs": [
    {
     "name": "stdout",
     "output_type": "stream",
     "text": [
      "Writing score.py\n"
     ]
    }
   ],
   "source": [
    "%%writefile score.py\n",
    "import json\n",
    "import pickle\n",
    "import numpy as np\n",
    "import pandas as pd\n",
    "import azureml.train.automl\n",
    "from sklearn.externals import joblib\n",
    "from azureml.core.model import Model\n",
    "\n",
    "from inference_schema.schema_decorators import input_schema, output_schema\n",
    "from inference_schema.parameter_types.numpy_parameter_type import NumpyParameterType\n",
    "from inference_schema.parameter_types.pandas_parameter_type import PandasParameterType\n",
    "\n",
    "\n",
    "input_sample = np.array([0.0, 0.0, 0.0, 2.0, 13.0, 0.0, 0.0, 0.0, 0.0, 0.0, 0.0, 8.0, 15.0, 0.0, 0.0, 0.0, 0.0, 0.0, 5.0, 16.0, 5.0, 2.0, 0.0, 0.0, 0.0, 0.0, 15.0, 12.0, 1.0, 16.0, 4.0, 0.0, 0.0, 4.0, 16.0, 2.0, 9.0, 16.0, 8.0, 0.0, 0.0, 0.0, 10.0, 14.0, 16.0, 16.0, 4.0, 0.0, 0.0, 0.0, 0.0, 0.0, 13.0, 8.0, 0.0, 0.0, 0.0, 0.0, 0.0, 0.0, 13.0, 6.0, 0.0, 0.0])\n",
    "output_sample = np.array([0])\n",
    "\n",
    "\n",
    "def init():\n",
    "    global model\n",
    "    # This name is model.id of model that we want to deploy deserialize the model file back\n",
    "    # into a sklearn model\n",
    "    model_path = Model.get_model_path(model_name = 'digitmodel')\n",
    "    model = joblib.load(model_path)\n",
    "\n",
    "\n",
    "    \n",
    "def run(raw_data):\n",
    "\n",
    "    try:\n",
    "\n",
    "        data = json.loads(raw_data)['data']\n",
    "\n",
    "        data = np.array(data)\n",
    "\n",
    "        result = model.predict(data)\n",
    "\n",
    "\n",
    "\n",
    "        # you can return any data type as long as it is JSON-serializable\n",
    "\n",
    "        return result.tolist()\n",
    "\n",
    "    except Exception as e:\n",
    "\n",
    "        result = str(e)\n",
    "\n",
    "        return result"
   ]
  },
  {
   "cell_type": "code",
   "execution_count": 22,
   "metadata": {},
   "outputs": [],
   "source": [
    "from azureml.core.webservice import AciWebservice \n",
    "\n",
    "aciconfig = AciWebservice.deploy_configuration(cpu_cores=1, memory_gb=1, \n",
    "                                   tags={\"data\": \"digit\", \"method\" : \"autml\"},\n",
    "                                   description='Auto ML AT ODSC SP 2019')\n"
   ]
  },
  {
   "cell_type": "code",
   "execution_count": 23,
   "metadata": {},
   "outputs": [
    {
     "name": "stdout",
     "output_type": "stream",
     "text": [
      "Creating image\n",
      "Running.........................................................................................................\n",
      "Succeeded\n",
      "Image creation operation finished for image digitimage:1, operation \"Succeeded\"\n",
      "CPU times: user 2.26 s, sys: 704 ms, total: 2.96 s\n",
      "Wall time: 9min 5s\n"
     ]
    }
   ],
   "source": [
    "%%time\n",
    "from azureml.core.image import Image, ContainerImage\n",
    "\n",
    "image_config = ContainerImage.image_configuration(runtime= \"python\",\n",
    "                                 execution_script=\"score.py\",\n",
    "                                 conda_file=\"myenv.yml\",\n",
    "                                 description = \"DigitModel Sample ODSC SP 10\")\n",
    "\n",
    "image = Image.create(name = \"digitimage\",\n",
    "                     # this is the model object. note you can pass in 0-n models via this list-type parameter\n",
    "                     # in case you need to reference multiple models, or none at all, in your scoring script.\n",
    "                     models = [model],\n",
    "                     image_config = image_config, \n",
    "                     workspace = ws)\n",
    "\n",
    "image.wait_for_creation(show_output = True)"
   ]
  },
  {
   "cell_type": "code",
   "execution_count": 24,
   "metadata": {},
   "outputs": [],
   "source": [
    "from azureml.core.webservice import AciWebservice\n",
    "\n",
    "aciconfig = AciWebservice.deploy_configuration(cpu_cores = 1, \n",
    "                                               memory_gb = 1, \n",
    "                                               description = 'ACI Sample ODSC SP')"
   ]
  },
  {
   "cell_type": "code",
   "execution_count": 40,
   "metadata": {},
   "outputs": [
    {
     "name": "stdout",
     "output_type": "stream",
     "text": [
      "my-aci-service-2\n",
      "Running.......................................\n",
      "SucceededACI service creation operation finished, operation \"Succeeded\"\n",
      "Healthy\n",
      "CPU times: user 884 ms, sys: 238 ms, total: 1.12 s\n",
      "Wall time: 3min 23s\n"
     ]
    }
   ],
   "source": [
    "%%time\n",
    "from azureml.core.webservice import Webservice\n",
    "\n",
    "aci_service_name = 'my-aci-service-2'\n",
    "print(aci_service_name)\n",
    "aci_service = Webservice.deploy_from_image(deployment_config = aciconfig,\n",
    "                                           image = image,\n",
    "                                           name = aci_service_name,\n",
    "                                           workspace = ws)\n",
    "aci_service.wait_for_deployment(True)\n",
    "print(aci_service.state)"
   ]
  },
  {
   "cell_type": "code",
   "execution_count": 32,
   "metadata": {},
   "outputs": [],
   "source": [
    "from azureml.core.webservice import Webservice\n",
    "from azureml.core.workspace import Workspace\n",
    "from azureml.core.webservice import AciWebservice\n",
    "\n",
    "ws = Workspace.from_config()\n",
    "aci_service_name = 'my-aci-service-2'\n",
    "\n",
    "aci_service = AciWebservice(ws,aci_service_name)\n"
   ]
  },
  {
   "cell_type": "code",
   "execution_count": 315,
   "metadata": {},
   "outputs": [],
   "source": [
    "#aci_service.delete()"
   ]
  },
  {
   "cell_type": "code",
   "execution_count": 35,
   "metadata": {},
   "outputs": [
    {
     "name": "stdout",
     "output_type": "stream",
     "text": [
      "Predict [9]\n",
      "Label 5\n"
     ]
    },
    {
     "data": {
      "image/png": "[encoded data removed]",
      "text/plain": [
       "<Figure size 216x216 with 1 Axes>"
      ]
     },
     "metadata": {
      "needs_background": "light"
     },
     "output_type": "display_data"
    }
   ],
   "source": [
    "import requests\n",
    "import json\n",
    "\n",
    "Index = 5\n",
    "# use the first row from the test set again\n",
    "test_samples = json.dumps({\"data\": X_test[Index:Index+1].tolist()})\n",
    "\n",
    "# create the required header\n",
    "headers = {'Content-Type':'application/json'}\n",
    "\n",
    "# post the request to the service and display the result\n",
    "resp = requests.post(aci_service.scoring_uri, test_samples, headers = headers)\n",
    "print(\"Predict \" + resp.text)\n",
    "print(\"Label \" + str(Index))\n",
    "\n",
    "fig = plt.figure(1, figsize=(3,3))\n",
    "ax1 = fig.add_axes((0,0,.8,.8))\n",
    "plt.imshow(images[Index], cmap = plt.cm.gray_r, interpolation = 'nearest')\n",
    "plt.show()"
   ]
  }
 ],
 "metadata": {
  "kernelspec": {
   "display_name": "Python 3",
   "language": "python",
   "name": "python3"
  },
  "language_info": {
   "codemirror_mode": {
    "name": "ipython",
    "version": 3
   },
   "file_extension": ".py",
   "mimetype": "text/x-python",
   "name": "python",
   "nbconvert_exporter": "python",
   "pygments_lexer": "ipython3",
   "version": "3.7.3"
  }
 },
 "nbformat": 4,
 "nbformat_minor": 2
}
